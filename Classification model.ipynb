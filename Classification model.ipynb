{
 "cells": [
  {
   "cell_type": "code",
   "execution_count": 1,
   "metadata": {},
   "outputs": [],
   "source": [
    "import pandas as pd\n",
    "from sklearn.model_selection import train_test_split\n",
    "from sklearn.linear_model import LogisticRegression\n",
    "from sklearn.preprocessing import LabelEncoder\n",
    "from sklearn import metrics\n",
    "import numpy as np\n",
    "import matplotlib.pyplot as plt\n",
    "import seaborn as sns\n",
    "from sklearn.metrics import f1_score\n",
    "%matplotlib inline\n"
   ]
  },
  {
   "cell_type": "code",
   "execution_count": 2,
   "metadata": {},
   "outputs": [
    {
     "ename": "ParserError",
     "evalue": "Error tokenizing data. C error: Expected 1 fields in line 4, saw 4\n",
     "output_type": "error",
     "traceback": [
      "\u001b[0;31m---------------------------------------------------------------------------\u001b[0m",
      "\u001b[0;31mParserError\u001b[0m                               Traceback (most recent call last)",
      "\u001b[0;32m<ipython-input-2-736ba7c38739>\u001b[0m in \u001b[0;36m<module>\u001b[0;34m\u001b[0m\n\u001b[0;32m----> 1\u001b[0;31m \u001b[0mdf\u001b[0m\u001b[0;34m=\u001b[0m\u001b[0mpd\u001b[0m\u001b[0;34m.\u001b[0m\u001b[0mread_csv\u001b[0m\u001b[0;34m(\u001b[0m\u001b[0;34m'https://cloudcounselage24.bitrix24.com/disk/showFile/36677/?&ncc=1&ts=1590841589&filename=DS_DATESET.csv'\u001b[0m\u001b[0;34m)\u001b[0m\u001b[0;34m\u001b[0m\u001b[0;34m\u001b[0m\u001b[0m\n\u001b[0m",
      "\u001b[0;32m~/anaconda3/lib/python3.7/site-packages/pandas/io/parsers.py\u001b[0m in \u001b[0;36mparser_f\u001b[0;34m(filepath_or_buffer, sep, delimiter, header, names, index_col, usecols, squeeze, prefix, mangle_dupe_cols, dtype, engine, converters, true_values, false_values, skipinitialspace, skiprows, skipfooter, nrows, na_values, keep_default_na, na_filter, verbose, skip_blank_lines, parse_dates, infer_datetime_format, keep_date_col, date_parser, dayfirst, iterator, chunksize, compression, thousands, decimal, lineterminator, quotechar, quoting, doublequote, escapechar, comment, encoding, dialect, tupleize_cols, error_bad_lines, warn_bad_lines, delim_whitespace, low_memory, memory_map, float_precision)\u001b[0m\n\u001b[1;32m    700\u001b[0m                     skip_blank_lines=skip_blank_lines)\n\u001b[1;32m    701\u001b[0m \u001b[0;34m\u001b[0m\u001b[0m\n\u001b[0;32m--> 702\u001b[0;31m         \u001b[0;32mreturn\u001b[0m \u001b[0m_read\u001b[0m\u001b[0;34m(\u001b[0m\u001b[0mfilepath_or_buffer\u001b[0m\u001b[0;34m,\u001b[0m \u001b[0mkwds\u001b[0m\u001b[0;34m)\u001b[0m\u001b[0;34m\u001b[0m\u001b[0;34m\u001b[0m\u001b[0m\n\u001b[0m\u001b[1;32m    703\u001b[0m \u001b[0;34m\u001b[0m\u001b[0m\n\u001b[1;32m    704\u001b[0m     \u001b[0mparser_f\u001b[0m\u001b[0;34m.\u001b[0m\u001b[0m__name__\u001b[0m \u001b[0;34m=\u001b[0m \u001b[0mname\u001b[0m\u001b[0;34m\u001b[0m\u001b[0;34m\u001b[0m\u001b[0m\n",
      "\u001b[0;32m~/anaconda3/lib/python3.7/site-packages/pandas/io/parsers.py\u001b[0m in \u001b[0;36m_read\u001b[0;34m(filepath_or_buffer, kwds)\u001b[0m\n\u001b[1;32m    433\u001b[0m \u001b[0;34m\u001b[0m\u001b[0m\n\u001b[1;32m    434\u001b[0m     \u001b[0;32mtry\u001b[0m\u001b[0;34m:\u001b[0m\u001b[0;34m\u001b[0m\u001b[0;34m\u001b[0m\u001b[0m\n\u001b[0;32m--> 435\u001b[0;31m         \u001b[0mdata\u001b[0m \u001b[0;34m=\u001b[0m \u001b[0mparser\u001b[0m\u001b[0;34m.\u001b[0m\u001b[0mread\u001b[0m\u001b[0;34m(\u001b[0m\u001b[0mnrows\u001b[0m\u001b[0;34m)\u001b[0m\u001b[0;34m\u001b[0m\u001b[0;34m\u001b[0m\u001b[0m\n\u001b[0m\u001b[1;32m    436\u001b[0m     \u001b[0;32mfinally\u001b[0m\u001b[0;34m:\u001b[0m\u001b[0;34m\u001b[0m\u001b[0;34m\u001b[0m\u001b[0m\n\u001b[1;32m    437\u001b[0m         \u001b[0mparser\u001b[0m\u001b[0;34m.\u001b[0m\u001b[0mclose\u001b[0m\u001b[0;34m(\u001b[0m\u001b[0;34m)\u001b[0m\u001b[0;34m\u001b[0m\u001b[0;34m\u001b[0m\u001b[0m\n",
      "\u001b[0;32m~/anaconda3/lib/python3.7/site-packages/pandas/io/parsers.py\u001b[0m in \u001b[0;36mread\u001b[0;34m(self, nrows)\u001b[0m\n\u001b[1;32m   1137\u001b[0m     \u001b[0;32mdef\u001b[0m \u001b[0mread\u001b[0m\u001b[0;34m(\u001b[0m\u001b[0mself\u001b[0m\u001b[0;34m,\u001b[0m \u001b[0mnrows\u001b[0m\u001b[0;34m=\u001b[0m\u001b[0;32mNone\u001b[0m\u001b[0;34m)\u001b[0m\u001b[0;34m:\u001b[0m\u001b[0;34m\u001b[0m\u001b[0;34m\u001b[0m\u001b[0m\n\u001b[1;32m   1138\u001b[0m         \u001b[0mnrows\u001b[0m \u001b[0;34m=\u001b[0m \u001b[0m_validate_integer\u001b[0m\u001b[0;34m(\u001b[0m\u001b[0;34m'nrows'\u001b[0m\u001b[0;34m,\u001b[0m \u001b[0mnrows\u001b[0m\u001b[0;34m)\u001b[0m\u001b[0;34m\u001b[0m\u001b[0;34m\u001b[0m\u001b[0m\n\u001b[0;32m-> 1139\u001b[0;31m         \u001b[0mret\u001b[0m \u001b[0;34m=\u001b[0m \u001b[0mself\u001b[0m\u001b[0;34m.\u001b[0m\u001b[0m_engine\u001b[0m\u001b[0;34m.\u001b[0m\u001b[0mread\u001b[0m\u001b[0;34m(\u001b[0m\u001b[0mnrows\u001b[0m\u001b[0;34m)\u001b[0m\u001b[0;34m\u001b[0m\u001b[0;34m\u001b[0m\u001b[0m\n\u001b[0m\u001b[1;32m   1140\u001b[0m \u001b[0;34m\u001b[0m\u001b[0m\n\u001b[1;32m   1141\u001b[0m         \u001b[0;31m# May alter columns / col_dict\u001b[0m\u001b[0;34m\u001b[0m\u001b[0;34m\u001b[0m\u001b[0;34m\u001b[0m\u001b[0m\n",
      "\u001b[0;32m~/anaconda3/lib/python3.7/site-packages/pandas/io/parsers.py\u001b[0m in \u001b[0;36mread\u001b[0;34m(self, nrows)\u001b[0m\n\u001b[1;32m   1993\u001b[0m     \u001b[0;32mdef\u001b[0m \u001b[0mread\u001b[0m\u001b[0;34m(\u001b[0m\u001b[0mself\u001b[0m\u001b[0;34m,\u001b[0m \u001b[0mnrows\u001b[0m\u001b[0;34m=\u001b[0m\u001b[0;32mNone\u001b[0m\u001b[0;34m)\u001b[0m\u001b[0;34m:\u001b[0m\u001b[0;34m\u001b[0m\u001b[0;34m\u001b[0m\u001b[0m\n\u001b[1;32m   1994\u001b[0m         \u001b[0;32mtry\u001b[0m\u001b[0;34m:\u001b[0m\u001b[0;34m\u001b[0m\u001b[0;34m\u001b[0m\u001b[0m\n\u001b[0;32m-> 1995\u001b[0;31m             \u001b[0mdata\u001b[0m \u001b[0;34m=\u001b[0m \u001b[0mself\u001b[0m\u001b[0;34m.\u001b[0m\u001b[0m_reader\u001b[0m\u001b[0;34m.\u001b[0m\u001b[0mread\u001b[0m\u001b[0;34m(\u001b[0m\u001b[0mnrows\u001b[0m\u001b[0;34m)\u001b[0m\u001b[0;34m\u001b[0m\u001b[0;34m\u001b[0m\u001b[0m\n\u001b[0m\u001b[1;32m   1996\u001b[0m         \u001b[0;32mexcept\u001b[0m \u001b[0mStopIteration\u001b[0m\u001b[0;34m:\u001b[0m\u001b[0;34m\u001b[0m\u001b[0;34m\u001b[0m\u001b[0m\n\u001b[1;32m   1997\u001b[0m             \u001b[0;32mif\u001b[0m \u001b[0mself\u001b[0m\u001b[0;34m.\u001b[0m\u001b[0m_first_chunk\u001b[0m\u001b[0;34m:\u001b[0m\u001b[0;34m\u001b[0m\u001b[0;34m\u001b[0m\u001b[0m\n",
      "\u001b[0;32mpandas/_libs/parsers.pyx\u001b[0m in \u001b[0;36mpandas._libs.parsers.TextReader.read\u001b[0;34m()\u001b[0m\n",
      "\u001b[0;32mpandas/_libs/parsers.pyx\u001b[0m in \u001b[0;36mpandas._libs.parsers.TextReader._read_low_memory\u001b[0;34m()\u001b[0m\n",
      "\u001b[0;32mpandas/_libs/parsers.pyx\u001b[0m in \u001b[0;36mpandas._libs.parsers.TextReader._read_rows\u001b[0;34m()\u001b[0m\n",
      "\u001b[0;32mpandas/_libs/parsers.pyx\u001b[0m in \u001b[0;36mpandas._libs.parsers.TextReader._tokenize_rows\u001b[0;34m()\u001b[0m\n",
      "\u001b[0;32mpandas/_libs/parsers.pyx\u001b[0m in \u001b[0;36mpandas._libs.parsers.raise_parser_error\u001b[0;34m()\u001b[0m\n",
      "\u001b[0;31mParserError\u001b[0m: Error tokenizing data. C error: Expected 1 fields in line 4, saw 4\n"
     ]
    }
   ],
   "source": [
    "df=pd.read_csv('https://cloudcounselage24.bitrix24.com/disk/showFile/36677/?&ncc=1&ts=1590841589&filename=DS_DATESET.csv')"
   ]
  },
  {
   "cell_type": "code",
   "execution_count": 3,
   "metadata": {},
   "outputs": [
    {
     "data": {
      "text/html": [
       "<div>\n",
       "<style scoped>\n",
       "    .dataframe tbody tr th:only-of-type {\n",
       "        vertical-align: middle;\n",
       "    }\n",
       "\n",
       "    .dataframe tbody tr th {\n",
       "        vertical-align: top;\n",
       "    }\n",
       "\n",
       "    .dataframe thead th {\n",
       "        text-align: right;\n",
       "    }\n",
       "</style>\n",
       "<table border=\"1\" class=\"dataframe\">\n",
       "  <thead>\n",
       "    <tr style=\"text-align: right;\">\n",
       "      <th></th>\n",
       "      <th>First Name</th>\n",
       "      <th>Last Name</th>\n",
       "      <th>City</th>\n",
       "      <th>State</th>\n",
       "      <th>Zip Code</th>\n",
       "      <th>DOB [DD/MM/YYYY]</th>\n",
       "      <th>Age</th>\n",
       "      <th>Gender</th>\n",
       "      <th>Email Address</th>\n",
       "      <th>Contact Number</th>\n",
       "      <th>...</th>\n",
       "      <th>Programming Language Known other than Java (one major)</th>\n",
       "      <th>Have you worked on MySQL or Oracle database</th>\n",
       "      <th>Have you studied OOP Concepts</th>\n",
       "      <th>Certifications/Achievement/ Research papers</th>\n",
       "      <th>Rate your written communication skills [1-10]</th>\n",
       "      <th>Rate your verbal communication skills [1-10]</th>\n",
       "      <th>Link to updated Resume (Google/ One Drive link preferred)</th>\n",
       "      <th>link to Linkedin profile</th>\n",
       "      <th>How Did You Hear About This Internship?</th>\n",
       "      <th>Label</th>\n",
       "    </tr>\n",
       "  </thead>\n",
       "  <tbody>\n",
       "    <tr>\n",
       "      <th>0</th>\n",
       "      <td>Barron</td>\n",
       "      <td>Harnes</td>\n",
       "      <td>Kolhapur</td>\n",
       "      <td>Maharashtra</td>\n",
       "      <td>416004</td>\n",
       "      <td>24/09/2000</td>\n",
       "      <td>19</td>\n",
       "      <td>Male</td>\n",
       "      <td>bharnes0@harvard.edu</td>\n",
       "      <td>6345186600</td>\n",
       "      <td>...</td>\n",
       "      <td>HTML/CSS</td>\n",
       "      <td>Yes</td>\n",
       "      <td>No</td>\n",
       "      <td>NaN</td>\n",
       "      <td>6</td>\n",
       "      <td>10</td>\n",
       "      <td>NaN</td>\n",
       "      <td>NaN</td>\n",
       "      <td>Twitter</td>\n",
       "      <td>ineligible</td>\n",
       "    </tr>\n",
       "    <tr>\n",
       "      <th>1</th>\n",
       "      <td>Velma</td>\n",
       "      <td>Allone</td>\n",
       "      <td>Pune</td>\n",
       "      <td>Maharashtra</td>\n",
       "      <td>411011</td>\n",
       "      <td>23/10/1997</td>\n",
       "      <td>22</td>\n",
       "      <td>Female</td>\n",
       "      <td>vallone1@i2i.jp</td>\n",
       "      <td>2808753102</td>\n",
       "      <td>...</td>\n",
       "      <td>PHP</td>\n",
       "      <td>No</td>\n",
       "      <td>Yes</td>\n",
       "      <td>NaN</td>\n",
       "      <td>10</td>\n",
       "      <td>7</td>\n",
       "      <td>NaN</td>\n",
       "      <td>NaN</td>\n",
       "      <td>Ex/Current Employee</td>\n",
       "      <td>eligible</td>\n",
       "    </tr>\n",
       "    <tr>\n",
       "      <th>2</th>\n",
       "      <td>Thibaut</td>\n",
       "      <td>Scotland</td>\n",
       "      <td>Mumbai</td>\n",
       "      <td>Maharashtra</td>\n",
       "      <td>400059</td>\n",
       "      <td>6/2/1996</td>\n",
       "      <td>24</td>\n",
       "      <td>Male</td>\n",
       "      <td>tscotland2@opensource.org</td>\n",
       "      <td>2945231918</td>\n",
       "      <td>...</td>\n",
       "      <td>C</td>\n",
       "      <td>No</td>\n",
       "      <td>No</td>\n",
       "      <td>NaN</td>\n",
       "      <td>8</td>\n",
       "      <td>6</td>\n",
       "      <td>NaN</td>\n",
       "      <td>NaN</td>\n",
       "      <td>Twitter</td>\n",
       "      <td>ineligible</td>\n",
       "    </tr>\n",
       "    <tr>\n",
       "      <th>3</th>\n",
       "      <td>Retha</td>\n",
       "      <td>Proud</td>\n",
       "      <td>Solapur</td>\n",
       "      <td>Maharashtra</td>\n",
       "      <td>413224</td>\n",
       "      <td>26/12/1999</td>\n",
       "      <td>20</td>\n",
       "      <td>Female</td>\n",
       "      <td>rproud3@flavors.me</td>\n",
       "      <td>7507196200</td>\n",
       "      <td>...</td>\n",
       "      <td>PHP</td>\n",
       "      <td>No</td>\n",
       "      <td>Yes</td>\n",
       "      <td>NaN</td>\n",
       "      <td>9</td>\n",
       "      <td>6</td>\n",
       "      <td>NaN</td>\n",
       "      <td>NaN</td>\n",
       "      <td>Twitter</td>\n",
       "      <td>ineligible</td>\n",
       "    </tr>\n",
       "    <tr>\n",
       "      <th>4</th>\n",
       "      <td>Del</td>\n",
       "      <td>Pearse</td>\n",
       "      <td>Sangli</td>\n",
       "      <td>Maharashtra</td>\n",
       "      <td>416436</td>\n",
       "      <td>21/09/1996</td>\n",
       "      <td>23</td>\n",
       "      <td>Female</td>\n",
       "      <td>dpearse4@sakura.ne.jp</td>\n",
       "      <td>6643884281</td>\n",
       "      <td>...</td>\n",
       "      <td>Python</td>\n",
       "      <td>No</td>\n",
       "      <td>Yes</td>\n",
       "      <td>NaN</td>\n",
       "      <td>8</td>\n",
       "      <td>6</td>\n",
       "      <td>NaN</td>\n",
       "      <td>NaN</td>\n",
       "      <td>Facebook</td>\n",
       "      <td>ineligible</td>\n",
       "    </tr>\n",
       "  </tbody>\n",
       "</table>\n",
       "<p>5 rows × 32 columns</p>\n",
       "</div>"
      ],
      "text/plain": [
       "  First Name Last Name      City        State  Zip Code DOB [DD/MM/YYYY]  Age  \\\n",
       "0     Barron    Harnes  Kolhapur  Maharashtra    416004       24/09/2000   19   \n",
       "1      Velma    Allone      Pune  Maharashtra    411011       23/10/1997   22   \n",
       "2    Thibaut  Scotland    Mumbai  Maharashtra    400059         6/2/1996   24   \n",
       "3      Retha     Proud   Solapur  Maharashtra    413224       26/12/1999   20   \n",
       "4        Del    Pearse    Sangli  Maharashtra    416436       21/09/1996   23   \n",
       "\n",
       "   Gender              Email Address  Contact Number  ...  \\\n",
       "0    Male       bharnes0@harvard.edu      6345186600  ...   \n",
       "1  Female            vallone1@i2i.jp      2808753102  ...   \n",
       "2    Male  tscotland2@opensource.org      2945231918  ...   \n",
       "3  Female         rproud3@flavors.me      7507196200  ...   \n",
       "4  Female      dpearse4@sakura.ne.jp      6643884281  ...   \n",
       "\n",
       "   Programming Language Known other than Java (one major)  \\\n",
       "0                                           HTML/CSS        \n",
       "1                                                PHP        \n",
       "2                                                  C        \n",
       "3                                                PHP        \n",
       "4                                             Python        \n",
       "\n",
       "  Have you worked on MySQL or Oracle database Have you studied OOP Concepts  \\\n",
       "0                                         Yes                            No   \n",
       "1                                          No                           Yes   \n",
       "2                                          No                            No   \n",
       "3                                          No                           Yes   \n",
       "4                                          No                           Yes   \n",
       "\n",
       "  Certifications/Achievement/ Research papers  \\\n",
       "0                                         NaN   \n",
       "1                                         NaN   \n",
       "2                                         NaN   \n",
       "3                                         NaN   \n",
       "4                                         NaN   \n",
       "\n",
       "  Rate your written communication skills [1-10]  \\\n",
       "0                                             6   \n",
       "1                                            10   \n",
       "2                                             8   \n",
       "3                                             9   \n",
       "4                                             8   \n",
       "\n",
       "  Rate your verbal communication skills [1-10]  \\\n",
       "0                                           10   \n",
       "1                                            7   \n",
       "2                                            6   \n",
       "3                                            6   \n",
       "4                                            6   \n",
       "\n",
       "  Link to updated Resume (Google/ One Drive link preferred)  \\\n",
       "0                                                NaN          \n",
       "1                                                NaN          \n",
       "2                                                NaN          \n",
       "3                                                NaN          \n",
       "4                                                NaN          \n",
       "\n",
       "   link to Linkedin profile  How Did You Hear About This Internship?  \\\n",
       "0                       NaN                                  Twitter   \n",
       "1                       NaN                      Ex/Current Employee   \n",
       "2                       NaN                                  Twitter   \n",
       "3                       NaN                                  Twitter   \n",
       "4                       NaN                                 Facebook   \n",
       "\n",
       "        Label  \n",
       "0  ineligible  \n",
       "1    eligible  \n",
       "2  ineligible  \n",
       "3  ineligible  \n",
       "4  ineligible  \n",
       "\n",
       "[5 rows x 32 columns]"
      ]
     },
     "execution_count": 3,
     "metadata": {},
     "output_type": "execute_result"
    }
   ],
   "source": [
    "df.head()"
   ]
  },
  {
   "cell_type": "code",
   "execution_count": 4,
   "metadata": {},
   "outputs": [],
   "source": [
    "df.drop(['Certifications/Achievement/ Research papers','Link to updated Resume (Google/ One Drive link preferred)','link to Linkedin profile'], axis=1, inplace=True)"
   ]
  },
  {
   "cell_type": "code",
   "execution_count": 5,
   "metadata": {},
   "outputs": [
    {
     "data": {
      "text/html": [
       "<div>\n",
       "<style scoped>\n",
       "    .dataframe tbody tr th:only-of-type {\n",
       "        vertical-align: middle;\n",
       "    }\n",
       "\n",
       "    .dataframe tbody tr th {\n",
       "        vertical-align: top;\n",
       "    }\n",
       "\n",
       "    .dataframe thead th {\n",
       "        text-align: right;\n",
       "    }\n",
       "</style>\n",
       "<table border=\"1\" class=\"dataframe\">\n",
       "  <thead>\n",
       "    <tr style=\"text-align: right;\">\n",
       "      <th></th>\n",
       "      <th>First Name</th>\n",
       "      <th>Last Name</th>\n",
       "      <th>City</th>\n",
       "      <th>State</th>\n",
       "      <th>Zip Code</th>\n",
       "      <th>DOB [DD/MM/YYYY]</th>\n",
       "      <th>Age</th>\n",
       "      <th>Gender</th>\n",
       "      <th>Email Address</th>\n",
       "      <th>Contact Number</th>\n",
       "      <th>...</th>\n",
       "      <th>Areas of interest</th>\n",
       "      <th>Current Employment Status</th>\n",
       "      <th>Have you worked core Java</th>\n",
       "      <th>Programming Language Known other than Java (one major)</th>\n",
       "      <th>Have you worked on MySQL or Oracle database</th>\n",
       "      <th>Have you studied OOP Concepts</th>\n",
       "      <th>Rate your written communication skills [1-10]</th>\n",
       "      <th>Rate your verbal communication skills [1-10]</th>\n",
       "      <th>How Did You Hear About This Internship?</th>\n",
       "      <th>Label</th>\n",
       "    </tr>\n",
       "  </thead>\n",
       "  <tbody>\n",
       "    <tr>\n",
       "      <th>0</th>\n",
       "      <td>Barron</td>\n",
       "      <td>Harnes</td>\n",
       "      <td>Kolhapur</td>\n",
       "      <td>Maharashtra</td>\n",
       "      <td>416004</td>\n",
       "      <td>24/09/2000</td>\n",
       "      <td>19</td>\n",
       "      <td>Male</td>\n",
       "      <td>bharnes0@harvard.edu</td>\n",
       "      <td>6345186600</td>\n",
       "      <td>...</td>\n",
       "      <td>Artificial Intelligence</td>\n",
       "      <td>Student</td>\n",
       "      <td>Yes</td>\n",
       "      <td>HTML/CSS</td>\n",
       "      <td>Yes</td>\n",
       "      <td>No</td>\n",
       "      <td>6</td>\n",
       "      <td>10</td>\n",
       "      <td>Twitter</td>\n",
       "      <td>ineligible</td>\n",
       "    </tr>\n",
       "    <tr>\n",
       "      <th>1</th>\n",
       "      <td>Velma</td>\n",
       "      <td>Allone</td>\n",
       "      <td>Pune</td>\n",
       "      <td>Maharashtra</td>\n",
       "      <td>411011</td>\n",
       "      <td>23/10/1997</td>\n",
       "      <td>22</td>\n",
       "      <td>Female</td>\n",
       "      <td>vallone1@i2i.jp</td>\n",
       "      <td>2808753102</td>\n",
       "      <td>...</td>\n",
       "      <td>Cloud Computing</td>\n",
       "      <td>Student</td>\n",
       "      <td>Yes</td>\n",
       "      <td>PHP</td>\n",
       "      <td>No</td>\n",
       "      <td>Yes</td>\n",
       "      <td>10</td>\n",
       "      <td>7</td>\n",
       "      <td>Ex/Current Employee</td>\n",
       "      <td>eligible</td>\n",
       "    </tr>\n",
       "    <tr>\n",
       "      <th>2</th>\n",
       "      <td>Thibaut</td>\n",
       "      <td>Scotland</td>\n",
       "      <td>Mumbai</td>\n",
       "      <td>Maharashtra</td>\n",
       "      <td>400059</td>\n",
       "      <td>6/2/1996</td>\n",
       "      <td>24</td>\n",
       "      <td>Male</td>\n",
       "      <td>tscotland2@opensource.org</td>\n",
       "      <td>2945231918</td>\n",
       "      <td>...</td>\n",
       "      <td>IoT</td>\n",
       "      <td>Student</td>\n",
       "      <td>Yes</td>\n",
       "      <td>C</td>\n",
       "      <td>No</td>\n",
       "      <td>No</td>\n",
       "      <td>8</td>\n",
       "      <td>6</td>\n",
       "      <td>Twitter</td>\n",
       "      <td>ineligible</td>\n",
       "    </tr>\n",
       "    <tr>\n",
       "      <th>3</th>\n",
       "      <td>Retha</td>\n",
       "      <td>Proud</td>\n",
       "      <td>Solapur</td>\n",
       "      <td>Maharashtra</td>\n",
       "      <td>413224</td>\n",
       "      <td>26/12/1999</td>\n",
       "      <td>20</td>\n",
       "      <td>Female</td>\n",
       "      <td>rproud3@flavors.me</td>\n",
       "      <td>7507196200</td>\n",
       "      <td>...</td>\n",
       "      <td>Digital Marketing</td>\n",
       "      <td>Student</td>\n",
       "      <td>No</td>\n",
       "      <td>PHP</td>\n",
       "      <td>No</td>\n",
       "      <td>Yes</td>\n",
       "      <td>9</td>\n",
       "      <td>6</td>\n",
       "      <td>Twitter</td>\n",
       "      <td>ineligible</td>\n",
       "    </tr>\n",
       "    <tr>\n",
       "      <th>4</th>\n",
       "      <td>Del</td>\n",
       "      <td>Pearse</td>\n",
       "      <td>Sangli</td>\n",
       "      <td>Maharashtra</td>\n",
       "      <td>416436</td>\n",
       "      <td>21/09/1996</td>\n",
       "      <td>23</td>\n",
       "      <td>Female</td>\n",
       "      <td>dpearse4@sakura.ne.jp</td>\n",
       "      <td>6643884281</td>\n",
       "      <td>...</td>\n",
       "      <td>Cloud Computing</td>\n",
       "      <td>Student</td>\n",
       "      <td>No</td>\n",
       "      <td>Python</td>\n",
       "      <td>No</td>\n",
       "      <td>Yes</td>\n",
       "      <td>8</td>\n",
       "      <td>6</td>\n",
       "      <td>Facebook</td>\n",
       "      <td>ineligible</td>\n",
       "    </tr>\n",
       "  </tbody>\n",
       "</table>\n",
       "<p>5 rows × 29 columns</p>\n",
       "</div>"
      ],
      "text/plain": [
       "  First Name Last Name      City        State  Zip Code DOB [DD/MM/YYYY]  Age  \\\n",
       "0     Barron    Harnes  Kolhapur  Maharashtra    416004       24/09/2000   19   \n",
       "1      Velma    Allone      Pune  Maharashtra    411011       23/10/1997   22   \n",
       "2    Thibaut  Scotland    Mumbai  Maharashtra    400059         6/2/1996   24   \n",
       "3      Retha     Proud   Solapur  Maharashtra    413224       26/12/1999   20   \n",
       "4        Del    Pearse    Sangli  Maharashtra    416436       21/09/1996   23   \n",
       "\n",
       "   Gender              Email Address  Contact Number  ...  \\\n",
       "0    Male       bharnes0@harvard.edu      6345186600  ...   \n",
       "1  Female            vallone1@i2i.jp      2808753102  ...   \n",
       "2    Male  tscotland2@opensource.org      2945231918  ...   \n",
       "3  Female         rproud3@flavors.me      7507196200  ...   \n",
       "4  Female      dpearse4@sakura.ne.jp      6643884281  ...   \n",
       "\n",
       "          Areas of interest Current Employment Status  \\\n",
       "0  Artificial Intelligence                    Student   \n",
       "1          Cloud Computing                    Student   \n",
       "2                      IoT                    Student   \n",
       "3        Digital Marketing                    Student   \n",
       "4          Cloud Computing                    Student   \n",
       "\n",
       "  Have you worked core Java  \\\n",
       "0                       Yes   \n",
       "1                       Yes   \n",
       "2                       Yes   \n",
       "3                        No   \n",
       "4                        No   \n",
       "\n",
       "  Programming Language Known other than Java (one major)  \\\n",
       "0                                           HTML/CSS       \n",
       "1                                                PHP       \n",
       "2                                                  C       \n",
       "3                                                PHP       \n",
       "4                                             Python       \n",
       "\n",
       "  Have you worked on MySQL or Oracle database Have you studied OOP Concepts  \\\n",
       "0                                         Yes                            No   \n",
       "1                                          No                           Yes   \n",
       "2                                          No                            No   \n",
       "3                                          No                           Yes   \n",
       "4                                          No                           Yes   \n",
       "\n",
       "  Rate your written communication skills [1-10]  \\\n",
       "0                                             6   \n",
       "1                                            10   \n",
       "2                                             8   \n",
       "3                                             9   \n",
       "4                                             8   \n",
       "\n",
       "   Rate your verbal communication skills [1-10]  \\\n",
       "0                                            10   \n",
       "1                                             7   \n",
       "2                                             6   \n",
       "3                                             6   \n",
       "4                                             6   \n",
       "\n",
       "   How Did You Hear About This Internship?       Label  \n",
       "0                                  Twitter  ineligible  \n",
       "1                      Ex/Current Employee    eligible  \n",
       "2                                  Twitter  ineligible  \n",
       "3                                  Twitter  ineligible  \n",
       "4                                 Facebook  ineligible  \n",
       "\n",
       "[5 rows x 29 columns]"
      ]
     },
     "execution_count": 5,
     "metadata": {},
     "output_type": "execute_result"
    }
   ],
   "source": [
    "df.head()"
   ]
  },
  {
   "cell_type": "code",
   "execution_count": 6,
   "metadata": {},
   "outputs": [
    {
     "data": {
      "text/html": [
       "<div>\n",
       "<style scoped>\n",
       "    .dataframe tbody tr th:only-of-type {\n",
       "        vertical-align: middle;\n",
       "    }\n",
       "\n",
       "    .dataframe tbody tr th {\n",
       "        vertical-align: top;\n",
       "    }\n",
       "\n",
       "    .dataframe thead th {\n",
       "        text-align: right;\n",
       "    }\n",
       "</style>\n",
       "<table border=\"1\" class=\"dataframe\">\n",
       "  <thead>\n",
       "    <tr style=\"text-align: right;\">\n",
       "      <th></th>\n",
       "      <th>Major/Area of Study</th>\n",
       "      <th>Which-year are you studying in?</th>\n",
       "      <th>CGPA/ percentage</th>\n",
       "      <th>Areas of interest</th>\n",
       "      <th>Programming Language Known other than Java (one major)</th>\n",
       "      <th>Rate your written communication skills [1-10]</th>\n",
       "      <th>Rate your verbal communication skills [1-10]</th>\n",
       "    </tr>\n",
       "  </thead>\n",
       "  <tbody>\n",
       "    <tr>\n",
       "      <th>0</th>\n",
       "      <td>Electrical Engineering</td>\n",
       "      <td>Second-year</td>\n",
       "      <td>7.26</td>\n",
       "      <td>Artificial Intelligence</td>\n",
       "      <td>HTML/CSS</td>\n",
       "      <td>6</td>\n",
       "      <td>10</td>\n",
       "    </tr>\n",
       "    <tr>\n",
       "      <th>1</th>\n",
       "      <td>Electronics and Telecommunication</td>\n",
       "      <td>Fourth-year</td>\n",
       "      <td>8.73</td>\n",
       "      <td>Cloud Computing</td>\n",
       "      <td>PHP</td>\n",
       "      <td>10</td>\n",
       "      <td>7</td>\n",
       "    </tr>\n",
       "    <tr>\n",
       "      <th>2</th>\n",
       "      <td>Electrical Engineering</td>\n",
       "      <td>Fourth-year</td>\n",
       "      <td>8.61</td>\n",
       "      <td>IoT</td>\n",
       "      <td>C</td>\n",
       "      <td>8</td>\n",
       "      <td>6</td>\n",
       "    </tr>\n",
       "    <tr>\n",
       "      <th>3</th>\n",
       "      <td>Computer Engineering</td>\n",
       "      <td>Second-year</td>\n",
       "      <td>7.96</td>\n",
       "      <td>Digital Marketing</td>\n",
       "      <td>PHP</td>\n",
       "      <td>9</td>\n",
       "      <td>6</td>\n",
       "    </tr>\n",
       "    <tr>\n",
       "      <th>4</th>\n",
       "      <td>Electrical Engineering</td>\n",
       "      <td>First-year</td>\n",
       "      <td>7.07</td>\n",
       "      <td>Cloud Computing</td>\n",
       "      <td>Python</td>\n",
       "      <td>8</td>\n",
       "      <td>6</td>\n",
       "    </tr>\n",
       "    <tr>\n",
       "      <th>5</th>\n",
       "      <td>Electrical Engineering</td>\n",
       "      <td>Fourth-year</td>\n",
       "      <td>9.35</td>\n",
       "      <td>Python</td>\n",
       "      <td>PHP</td>\n",
       "      <td>6</td>\n",
       "      <td>7</td>\n",
       "    </tr>\n",
       "    <tr>\n",
       "      <th>6</th>\n",
       "      <td>Electronics and Telecommunication</td>\n",
       "      <td>Third-year</td>\n",
       "      <td>8.31</td>\n",
       "      <td>QMS/Testing</td>\n",
       "      <td>PHP</td>\n",
       "      <td>10</td>\n",
       "      <td>7</td>\n",
       "    </tr>\n",
       "    <tr>\n",
       "      <th>7</th>\n",
       "      <td>Electronics and Telecommunication</td>\n",
       "      <td>Third-year</td>\n",
       "      <td>9.21</td>\n",
       "      <td>Data Science</td>\n",
       "      <td>C++</td>\n",
       "      <td>9</td>\n",
       "      <td>9</td>\n",
       "    </tr>\n",
       "    <tr>\n",
       "      <th>8</th>\n",
       "      <td>Computer Engineering</td>\n",
       "      <td>Fourth-year</td>\n",
       "      <td>9.91</td>\n",
       "      <td>QMS/Testing</td>\n",
       "      <td>C++</td>\n",
       "      <td>9</td>\n",
       "      <td>10</td>\n",
       "    </tr>\n",
       "    <tr>\n",
       "      <th>9</th>\n",
       "      <td>Electronics and Telecommunication</td>\n",
       "      <td>Fourth-year</td>\n",
       "      <td>7.48</td>\n",
       "      <td>IoT</td>\n",
       "      <td>.Net</td>\n",
       "      <td>10</td>\n",
       "      <td>10</td>\n",
       "    </tr>\n",
       "    <tr>\n",
       "      <th>10</th>\n",
       "      <td>Computer Engineering</td>\n",
       "      <td>First-year</td>\n",
       "      <td>7.25</td>\n",
       "      <td>Machine Learning</td>\n",
       "      <td>Python</td>\n",
       "      <td>8</td>\n",
       "      <td>10</td>\n",
       "    </tr>\n",
       "    <tr>\n",
       "      <th>11</th>\n",
       "      <td>Electrical Engineering</td>\n",
       "      <td>Second-year</td>\n",
       "      <td>7.27</td>\n",
       "      <td>Blockchain</td>\n",
       "      <td>JavaScript</td>\n",
       "      <td>10</td>\n",
       "      <td>7</td>\n",
       "    </tr>\n",
       "    <tr>\n",
       "      <th>12</th>\n",
       "      <td>Computer Engineering</td>\n",
       "      <td>Fourth-year</td>\n",
       "      <td>8.27</td>\n",
       "      <td>RPA</td>\n",
       "      <td>PHP</td>\n",
       "      <td>8</td>\n",
       "      <td>6</td>\n",
       "    </tr>\n",
       "    <tr>\n",
       "      <th>13</th>\n",
       "      <td>Computer Engineering</td>\n",
       "      <td>Fourth-year</td>\n",
       "      <td>8.70</td>\n",
       "      <td>Digital Marketing</td>\n",
       "      <td>HTML/CSS</td>\n",
       "      <td>10</td>\n",
       "      <td>7</td>\n",
       "    </tr>\n",
       "    <tr>\n",
       "      <th>14</th>\n",
       "      <td>Electrical Engineering</td>\n",
       "      <td>Fourth-year</td>\n",
       "      <td>7.75</td>\n",
       "      <td>DevOps</td>\n",
       "      <td>HTML/CSS</td>\n",
       "      <td>8</td>\n",
       "      <td>8</td>\n",
       "    </tr>\n",
       "    <tr>\n",
       "      <th>15</th>\n",
       "      <td>Computer Engineering</td>\n",
       "      <td>Second-year</td>\n",
       "      <td>8.84</td>\n",
       "      <td>Big Data</td>\n",
       "      <td>Python</td>\n",
       "      <td>10</td>\n",
       "      <td>7</td>\n",
       "    </tr>\n",
       "    <tr>\n",
       "      <th>16</th>\n",
       "      <td>Computer Engineering</td>\n",
       "      <td>Fourth-year</td>\n",
       "      <td>9.21</td>\n",
       "      <td>QMS/Testing</td>\n",
       "      <td>C#</td>\n",
       "      <td>9</td>\n",
       "      <td>6</td>\n",
       "    </tr>\n",
       "    <tr>\n",
       "      <th>17</th>\n",
       "      <td>Computer Engineering</td>\n",
       "      <td>Fourth-year</td>\n",
       "      <td>9.82</td>\n",
       "      <td>Web Development</td>\n",
       "      <td>JavaScript</td>\n",
       "      <td>9</td>\n",
       "      <td>7</td>\n",
       "    </tr>\n",
       "    <tr>\n",
       "      <th>18</th>\n",
       "      <td>Computer Engineering</td>\n",
       "      <td>Fourth-year</td>\n",
       "      <td>9.88</td>\n",
       "      <td>Web Development</td>\n",
       "      <td>C</td>\n",
       "      <td>6</td>\n",
       "      <td>10</td>\n",
       "    </tr>\n",
       "    <tr>\n",
       "      <th>19</th>\n",
       "      <td>Electrical Engineering</td>\n",
       "      <td>First-year</td>\n",
       "      <td>8.40</td>\n",
       "      <td>QMS/Testing</td>\n",
       "      <td>.Net</td>\n",
       "      <td>6</td>\n",
       "      <td>8</td>\n",
       "    </tr>\n",
       "    <tr>\n",
       "      <th>20</th>\n",
       "      <td>Computer Engineering</td>\n",
       "      <td>First-year</td>\n",
       "      <td>8.56</td>\n",
       "      <td>Cyber Security</td>\n",
       "      <td>C</td>\n",
       "      <td>7</td>\n",
       "      <td>8</td>\n",
       "    </tr>\n",
       "    <tr>\n",
       "      <th>21</th>\n",
       "      <td>Computer Engineering</td>\n",
       "      <td>First-year</td>\n",
       "      <td>7.57</td>\n",
       "      <td>Blockchain</td>\n",
       "      <td>HTML/CSS</td>\n",
       "      <td>10</td>\n",
       "      <td>6</td>\n",
       "    </tr>\n",
       "    <tr>\n",
       "      <th>22</th>\n",
       "      <td>Computer Engineering</td>\n",
       "      <td>First-year</td>\n",
       "      <td>8.44</td>\n",
       "      <td>Cloud Computing</td>\n",
       "      <td>JavaScript</td>\n",
       "      <td>6</td>\n",
       "      <td>6</td>\n",
       "    </tr>\n",
       "    <tr>\n",
       "      <th>23</th>\n",
       "      <td>Electronics and Telecommunication</td>\n",
       "      <td>Third-year</td>\n",
       "      <td>8.61</td>\n",
       "      <td>Big Data</td>\n",
       "      <td>Python</td>\n",
       "      <td>8</td>\n",
       "      <td>8</td>\n",
       "    </tr>\n",
       "    <tr>\n",
       "      <th>24</th>\n",
       "      <td>Computer Engineering</td>\n",
       "      <td>Fourth-year</td>\n",
       "      <td>9.53</td>\n",
       "      <td>Cyber Security</td>\n",
       "      <td>C</td>\n",
       "      <td>10</td>\n",
       "      <td>8</td>\n",
       "    </tr>\n",
       "    <tr>\n",
       "      <th>25</th>\n",
       "      <td>Computer Engineering</td>\n",
       "      <td>First-year</td>\n",
       "      <td>7.22</td>\n",
       "      <td>Machine Learning</td>\n",
       "      <td>.Net</td>\n",
       "      <td>9</td>\n",
       "      <td>9</td>\n",
       "    </tr>\n",
       "    <tr>\n",
       "      <th>26</th>\n",
       "      <td>Computer Engineering</td>\n",
       "      <td>Second-year</td>\n",
       "      <td>9.33</td>\n",
       "      <td>Machine Learning</td>\n",
       "      <td>.Net</td>\n",
       "      <td>7</td>\n",
       "      <td>10</td>\n",
       "    </tr>\n",
       "    <tr>\n",
       "      <th>27</th>\n",
       "      <td>Computer Engineering</td>\n",
       "      <td>Fourth-year</td>\n",
       "      <td>9.86</td>\n",
       "      <td>Artificial Intelligence</td>\n",
       "      <td>.Net</td>\n",
       "      <td>6</td>\n",
       "      <td>10</td>\n",
       "    </tr>\n",
       "    <tr>\n",
       "      <th>28</th>\n",
       "      <td>Electronics and Telecommunication</td>\n",
       "      <td>Second-year</td>\n",
       "      <td>7.53</td>\n",
       "      <td>Cyber Security</td>\n",
       "      <td>Python</td>\n",
       "      <td>9</td>\n",
       "      <td>9</td>\n",
       "    </tr>\n",
       "    <tr>\n",
       "      <th>29</th>\n",
       "      <td>Computer Engineering</td>\n",
       "      <td>Third-year</td>\n",
       "      <td>9.56</td>\n",
       "      <td>DevOps</td>\n",
       "      <td>C#</td>\n",
       "      <td>8</td>\n",
       "      <td>9</td>\n",
       "    </tr>\n",
       "    <tr>\n",
       "      <th>...</th>\n",
       "      <td>...</td>\n",
       "      <td>...</td>\n",
       "      <td>...</td>\n",
       "      <td>...</td>\n",
       "      <td>...</td>\n",
       "      <td>...</td>\n",
       "      <td>...</td>\n",
       "    </tr>\n",
       "    <tr>\n",
       "      <th>9970</th>\n",
       "      <td>Electrical Engineering</td>\n",
       "      <td>Third-year</td>\n",
       "      <td>7.49</td>\n",
       "      <td>Machine Learning</td>\n",
       "      <td>HTML/CSS</td>\n",
       "      <td>6</td>\n",
       "      <td>7</td>\n",
       "    </tr>\n",
       "    <tr>\n",
       "      <th>9971</th>\n",
       "      <td>Electrical Engineering</td>\n",
       "      <td>Fourth-year</td>\n",
       "      <td>9.48</td>\n",
       "      <td>RPA</td>\n",
       "      <td>C#</td>\n",
       "      <td>7</td>\n",
       "      <td>8</td>\n",
       "    </tr>\n",
       "    <tr>\n",
       "      <th>9972</th>\n",
       "      <td>Computer Engineering</td>\n",
       "      <td>Second-year</td>\n",
       "      <td>7.98</td>\n",
       "      <td>Big Data</td>\n",
       "      <td>Python</td>\n",
       "      <td>9</td>\n",
       "      <td>7</td>\n",
       "    </tr>\n",
       "    <tr>\n",
       "      <th>9973</th>\n",
       "      <td>Electrical Engineering</td>\n",
       "      <td>First-year</td>\n",
       "      <td>8.51</td>\n",
       "      <td>Cyber Security</td>\n",
       "      <td>C#</td>\n",
       "      <td>8</td>\n",
       "      <td>8</td>\n",
       "    </tr>\n",
       "    <tr>\n",
       "      <th>9974</th>\n",
       "      <td>Computer Engineering</td>\n",
       "      <td>Fourth-year</td>\n",
       "      <td>9.26</td>\n",
       "      <td>Mobility</td>\n",
       "      <td>HTML/CSS</td>\n",
       "      <td>6</td>\n",
       "      <td>10</td>\n",
       "    </tr>\n",
       "    <tr>\n",
       "      <th>9975</th>\n",
       "      <td>Computer Engineering</td>\n",
       "      <td>Fourth-year</td>\n",
       "      <td>9.62</td>\n",
       "      <td>Data Science</td>\n",
       "      <td>JavaScript</td>\n",
       "      <td>6</td>\n",
       "      <td>7</td>\n",
       "    </tr>\n",
       "    <tr>\n",
       "      <th>9976</th>\n",
       "      <td>Computer Engineering</td>\n",
       "      <td>Third-year</td>\n",
       "      <td>8.96</td>\n",
       "      <td>Artificial Intelligence</td>\n",
       "      <td>JavaScript</td>\n",
       "      <td>7</td>\n",
       "      <td>7</td>\n",
       "    </tr>\n",
       "    <tr>\n",
       "      <th>9977</th>\n",
       "      <td>Electrical Engineering</td>\n",
       "      <td>Second-year</td>\n",
       "      <td>8.45</td>\n",
       "      <td>Data Science</td>\n",
       "      <td>HTML/CSS</td>\n",
       "      <td>8</td>\n",
       "      <td>10</td>\n",
       "    </tr>\n",
       "    <tr>\n",
       "      <th>9978</th>\n",
       "      <td>Electrical Engineering</td>\n",
       "      <td>First-year</td>\n",
       "      <td>7.45</td>\n",
       "      <td>Cloud Computing</td>\n",
       "      <td>PHP</td>\n",
       "      <td>9</td>\n",
       "      <td>7</td>\n",
       "    </tr>\n",
       "    <tr>\n",
       "      <th>9979</th>\n",
       "      <td>Computer Engineering</td>\n",
       "      <td>First-year</td>\n",
       "      <td>7.64</td>\n",
       "      <td>Mobility</td>\n",
       "      <td>C</td>\n",
       "      <td>10</td>\n",
       "      <td>10</td>\n",
       "    </tr>\n",
       "    <tr>\n",
       "      <th>9980</th>\n",
       "      <td>Electronics and Telecommunication</td>\n",
       "      <td>Second-year</td>\n",
       "      <td>9.21</td>\n",
       "      <td>Mobility</td>\n",
       "      <td>.Net</td>\n",
       "      <td>7</td>\n",
       "      <td>8</td>\n",
       "    </tr>\n",
       "    <tr>\n",
       "      <th>9981</th>\n",
       "      <td>Computer Engineering</td>\n",
       "      <td>Fourth-year</td>\n",
       "      <td>8.88</td>\n",
       "      <td>IoT</td>\n",
       "      <td>C++</td>\n",
       "      <td>6</td>\n",
       "      <td>6</td>\n",
       "    </tr>\n",
       "    <tr>\n",
       "      <th>9982</th>\n",
       "      <td>Computer Engineering</td>\n",
       "      <td>Second-year</td>\n",
       "      <td>7.29</td>\n",
       "      <td>Web Development</td>\n",
       "      <td>.Net</td>\n",
       "      <td>10</td>\n",
       "      <td>8</td>\n",
       "    </tr>\n",
       "    <tr>\n",
       "      <th>9983</th>\n",
       "      <td>Electrical Engineering</td>\n",
       "      <td>Second-year</td>\n",
       "      <td>7.47</td>\n",
       "      <td>QMS/Testing</td>\n",
       "      <td>C</td>\n",
       "      <td>6</td>\n",
       "      <td>9</td>\n",
       "    </tr>\n",
       "    <tr>\n",
       "      <th>9984</th>\n",
       "      <td>Computer Engineering</td>\n",
       "      <td>First-year</td>\n",
       "      <td>7.29</td>\n",
       "      <td>Information Security</td>\n",
       "      <td>C++</td>\n",
       "      <td>7</td>\n",
       "      <td>9</td>\n",
       "    </tr>\n",
       "    <tr>\n",
       "      <th>9985</th>\n",
       "      <td>Computer Engineering</td>\n",
       "      <td>Fourth-year</td>\n",
       "      <td>9.14</td>\n",
       "      <td>Web Development</td>\n",
       "      <td>C++</td>\n",
       "      <td>7</td>\n",
       "      <td>10</td>\n",
       "    </tr>\n",
       "    <tr>\n",
       "      <th>9986</th>\n",
       "      <td>Computer Engineering</td>\n",
       "      <td>First-year</td>\n",
       "      <td>7.15</td>\n",
       "      <td>Data Science</td>\n",
       "      <td>Python</td>\n",
       "      <td>6</td>\n",
       "      <td>10</td>\n",
       "    </tr>\n",
       "    <tr>\n",
       "      <th>9987</th>\n",
       "      <td>Computer Engineering</td>\n",
       "      <td>Fourth-year</td>\n",
       "      <td>8.90</td>\n",
       "      <td>RPA</td>\n",
       "      <td>HTML/CSS</td>\n",
       "      <td>6</td>\n",
       "      <td>8</td>\n",
       "    </tr>\n",
       "    <tr>\n",
       "      <th>9988</th>\n",
       "      <td>Computer Engineering</td>\n",
       "      <td>Second-year</td>\n",
       "      <td>9.67</td>\n",
       "      <td>Data Science</td>\n",
       "      <td>.Net</td>\n",
       "      <td>6</td>\n",
       "      <td>8</td>\n",
       "    </tr>\n",
       "    <tr>\n",
       "      <th>9989</th>\n",
       "      <td>Computer Engineering</td>\n",
       "      <td>Third-year</td>\n",
       "      <td>9.61</td>\n",
       "      <td>RPA</td>\n",
       "      <td>C++</td>\n",
       "      <td>10</td>\n",
       "      <td>9</td>\n",
       "    </tr>\n",
       "    <tr>\n",
       "      <th>9990</th>\n",
       "      <td>Computer Engineering</td>\n",
       "      <td>Fourth-year</td>\n",
       "      <td>8.63</td>\n",
       "      <td>Information Security</td>\n",
       "      <td>.Net</td>\n",
       "      <td>9</td>\n",
       "      <td>6</td>\n",
       "    </tr>\n",
       "    <tr>\n",
       "      <th>9991</th>\n",
       "      <td>Computer Engineering</td>\n",
       "      <td>First-year</td>\n",
       "      <td>7.33</td>\n",
       "      <td>Machine Learning</td>\n",
       "      <td>JavaScript</td>\n",
       "      <td>8</td>\n",
       "      <td>8</td>\n",
       "    </tr>\n",
       "    <tr>\n",
       "      <th>9992</th>\n",
       "      <td>Electrical Engineering</td>\n",
       "      <td>Fourth-year</td>\n",
       "      <td>9.17</td>\n",
       "      <td>Mobility</td>\n",
       "      <td>C#</td>\n",
       "      <td>6</td>\n",
       "      <td>7</td>\n",
       "    </tr>\n",
       "    <tr>\n",
       "      <th>9993</th>\n",
       "      <td>Computer Engineering</td>\n",
       "      <td>Third-year</td>\n",
       "      <td>9.04</td>\n",
       "      <td>Blockchain</td>\n",
       "      <td>C#</td>\n",
       "      <td>8</td>\n",
       "      <td>6</td>\n",
       "    </tr>\n",
       "    <tr>\n",
       "      <th>9994</th>\n",
       "      <td>Computer Engineering</td>\n",
       "      <td>Second-year</td>\n",
       "      <td>9.59</td>\n",
       "      <td>Blockchain</td>\n",
       "      <td>HTML/CSS</td>\n",
       "      <td>8</td>\n",
       "      <td>6</td>\n",
       "    </tr>\n",
       "    <tr>\n",
       "      <th>9995</th>\n",
       "      <td>Computer Engineering</td>\n",
       "      <td>Third-year</td>\n",
       "      <td>7.69</td>\n",
       "      <td>Machine Learning</td>\n",
       "      <td>JavaScript</td>\n",
       "      <td>9</td>\n",
       "      <td>9</td>\n",
       "    </tr>\n",
       "    <tr>\n",
       "      <th>9996</th>\n",
       "      <td>Computer Engineering</td>\n",
       "      <td>Third-year</td>\n",
       "      <td>8.74</td>\n",
       "      <td>Cyber Security</td>\n",
       "      <td>PHP</td>\n",
       "      <td>7</td>\n",
       "      <td>7</td>\n",
       "    </tr>\n",
       "    <tr>\n",
       "      <th>9997</th>\n",
       "      <td>Electronics and Telecommunication</td>\n",
       "      <td>Second-year</td>\n",
       "      <td>8.52</td>\n",
       "      <td>IoT</td>\n",
       "      <td>C++</td>\n",
       "      <td>7</td>\n",
       "      <td>7</td>\n",
       "    </tr>\n",
       "    <tr>\n",
       "      <th>9998</th>\n",
       "      <td>Computer Engineering</td>\n",
       "      <td>Fourth-year</td>\n",
       "      <td>9.22</td>\n",
       "      <td>Machine Learning</td>\n",
       "      <td>JavaScript</td>\n",
       "      <td>7</td>\n",
       "      <td>6</td>\n",
       "    </tr>\n",
       "    <tr>\n",
       "      <th>9999</th>\n",
       "      <td>Electrical Engineering</td>\n",
       "      <td>First-year</td>\n",
       "      <td>7.11</td>\n",
       "      <td>Cyber Security</td>\n",
       "      <td>C</td>\n",
       "      <td>6</td>\n",
       "      <td>10</td>\n",
       "    </tr>\n",
       "  </tbody>\n",
       "</table>\n",
       "<p>10000 rows × 7 columns</p>\n",
       "</div>"
      ],
      "text/plain": [
       "                    Major/Area of Study Which-year are you studying in?  \\\n",
       "0                Electrical Engineering                     Second-year   \n",
       "1     Electronics and Telecommunication                     Fourth-year   \n",
       "2                Electrical Engineering                     Fourth-year   \n",
       "3                  Computer Engineering                     Second-year   \n",
       "4                Electrical Engineering                      First-year   \n",
       "5                Electrical Engineering                     Fourth-year   \n",
       "6     Electronics and Telecommunication                      Third-year   \n",
       "7     Electronics and Telecommunication                      Third-year   \n",
       "8                  Computer Engineering                     Fourth-year   \n",
       "9     Electronics and Telecommunication                     Fourth-year   \n",
       "10                 Computer Engineering                      First-year   \n",
       "11               Electrical Engineering                     Second-year   \n",
       "12                 Computer Engineering                     Fourth-year   \n",
       "13                 Computer Engineering                     Fourth-year   \n",
       "14               Electrical Engineering                     Fourth-year   \n",
       "15                 Computer Engineering                     Second-year   \n",
       "16                 Computer Engineering                     Fourth-year   \n",
       "17                 Computer Engineering                     Fourth-year   \n",
       "18                 Computer Engineering                     Fourth-year   \n",
       "19               Electrical Engineering                      First-year   \n",
       "20                 Computer Engineering                      First-year   \n",
       "21                 Computer Engineering                      First-year   \n",
       "22                 Computer Engineering                      First-year   \n",
       "23    Electronics and Telecommunication                      Third-year   \n",
       "24                 Computer Engineering                     Fourth-year   \n",
       "25                 Computer Engineering                      First-year   \n",
       "26                 Computer Engineering                     Second-year   \n",
       "27                 Computer Engineering                     Fourth-year   \n",
       "28    Electronics and Telecommunication                     Second-year   \n",
       "29                 Computer Engineering                      Third-year   \n",
       "...                                 ...                             ...   \n",
       "9970             Electrical Engineering                      Third-year   \n",
       "9971             Electrical Engineering                     Fourth-year   \n",
       "9972               Computer Engineering                     Second-year   \n",
       "9973             Electrical Engineering                      First-year   \n",
       "9974               Computer Engineering                     Fourth-year   \n",
       "9975               Computer Engineering                     Fourth-year   \n",
       "9976               Computer Engineering                      Third-year   \n",
       "9977             Electrical Engineering                     Second-year   \n",
       "9978             Electrical Engineering                      First-year   \n",
       "9979               Computer Engineering                      First-year   \n",
       "9980  Electronics and Telecommunication                     Second-year   \n",
       "9981               Computer Engineering                     Fourth-year   \n",
       "9982               Computer Engineering                     Second-year   \n",
       "9983             Electrical Engineering                     Second-year   \n",
       "9984               Computer Engineering                      First-year   \n",
       "9985               Computer Engineering                     Fourth-year   \n",
       "9986               Computer Engineering                      First-year   \n",
       "9987               Computer Engineering                     Fourth-year   \n",
       "9988               Computer Engineering                     Second-year   \n",
       "9989               Computer Engineering                      Third-year   \n",
       "9990               Computer Engineering                     Fourth-year   \n",
       "9991               Computer Engineering                      First-year   \n",
       "9992             Electrical Engineering                     Fourth-year   \n",
       "9993               Computer Engineering                      Third-year   \n",
       "9994               Computer Engineering                     Second-year   \n",
       "9995               Computer Engineering                      Third-year   \n",
       "9996               Computer Engineering                      Third-year   \n",
       "9997  Electronics and Telecommunication                     Second-year   \n",
       "9998               Computer Engineering                     Fourth-year   \n",
       "9999             Electrical Engineering                      First-year   \n",
       "\n",
       "      CGPA/ percentage         Areas of interest  \\\n",
       "0                 7.26  Artificial Intelligence    \n",
       "1                 8.73          Cloud Computing    \n",
       "2                 8.61                      IoT    \n",
       "3                 7.96        Digital Marketing    \n",
       "4                 7.07          Cloud Computing    \n",
       "5                 9.35                   Python    \n",
       "6                 8.31              QMS/Testing    \n",
       "7                 9.21             Data Science    \n",
       "8                 9.91              QMS/Testing    \n",
       "9                 7.48                      IoT    \n",
       "10                7.25          Machine Learning   \n",
       "11                7.27               Blockchain    \n",
       "12                8.27                      RPA    \n",
       "13                8.70        Digital Marketing    \n",
       "14                7.75                   DevOps    \n",
       "15                8.84                 Big Data    \n",
       "16                9.21              QMS/Testing    \n",
       "17                9.82          Web Development    \n",
       "18                9.88          Web Development    \n",
       "19                8.40              QMS/Testing    \n",
       "20                8.56           Cyber Security    \n",
       "21                7.57               Blockchain    \n",
       "22                8.44          Cloud Computing    \n",
       "23                8.61                 Big Data    \n",
       "24                9.53           Cyber Security    \n",
       "25                7.22          Machine Learning   \n",
       "26                9.33          Machine Learning   \n",
       "27                9.86  Artificial Intelligence    \n",
       "28                7.53           Cyber Security    \n",
       "29                9.56                   DevOps    \n",
       "...                ...                       ...   \n",
       "9970              7.49          Machine Learning   \n",
       "9971              9.48                      RPA    \n",
       "9972              7.98                 Big Data    \n",
       "9973              8.51           Cyber Security    \n",
       "9974              9.26                  Mobility   \n",
       "9975              9.62             Data Science    \n",
       "9976              8.96  Artificial Intelligence    \n",
       "9977              8.45             Data Science    \n",
       "9978              7.45          Cloud Computing    \n",
       "9979              7.64                  Mobility   \n",
       "9980              9.21                  Mobility   \n",
       "9981              8.88                      IoT    \n",
       "9982              7.29          Web Development    \n",
       "9983              7.47              QMS/Testing    \n",
       "9984              7.29      Information Security   \n",
       "9985              9.14          Web Development    \n",
       "9986              7.15             Data Science    \n",
       "9987              8.90                      RPA    \n",
       "9988              9.67             Data Science    \n",
       "9989              9.61                      RPA    \n",
       "9990              8.63      Information Security   \n",
       "9991              7.33          Machine Learning   \n",
       "9992              9.17                  Mobility   \n",
       "9993              9.04               Blockchain    \n",
       "9994              9.59               Blockchain    \n",
       "9995              7.69          Machine Learning   \n",
       "9996              8.74           Cyber Security    \n",
       "9997              8.52                      IoT    \n",
       "9998              9.22          Machine Learning   \n",
       "9999              7.11           Cyber Security    \n",
       "\n",
       "     Programming Language Known other than Java (one major)  \\\n",
       "0                                              HTML/CSS       \n",
       "1                                                   PHP       \n",
       "2                                                     C       \n",
       "3                                                   PHP       \n",
       "4                                                Python       \n",
       "5                                                   PHP       \n",
       "6                                                   PHP       \n",
       "7                                                   C++       \n",
       "8                                                   C++       \n",
       "9                                                  .Net       \n",
       "10                                               Python       \n",
       "11                                           JavaScript       \n",
       "12                                                  PHP       \n",
       "13                                             HTML/CSS       \n",
       "14                                             HTML/CSS       \n",
       "15                                               Python       \n",
       "16                                                   C#       \n",
       "17                                           JavaScript       \n",
       "18                                                    C       \n",
       "19                                                 .Net       \n",
       "20                                                    C       \n",
       "21                                             HTML/CSS       \n",
       "22                                           JavaScript       \n",
       "23                                               Python       \n",
       "24                                                    C       \n",
       "25                                                 .Net       \n",
       "26                                                 .Net       \n",
       "27                                                 .Net       \n",
       "28                                               Python       \n",
       "29                                                   C#       \n",
       "...                                                 ...       \n",
       "9970                                           HTML/CSS       \n",
       "9971                                                 C#       \n",
       "9972                                             Python       \n",
       "9973                                                 C#       \n",
       "9974                                           HTML/CSS       \n",
       "9975                                         JavaScript       \n",
       "9976                                         JavaScript       \n",
       "9977                                           HTML/CSS       \n",
       "9978                                                PHP       \n",
       "9979                                                  C       \n",
       "9980                                               .Net       \n",
       "9981                                                C++       \n",
       "9982                                               .Net       \n",
       "9983                                                  C       \n",
       "9984                                                C++       \n",
       "9985                                                C++       \n",
       "9986                                             Python       \n",
       "9987                                           HTML/CSS       \n",
       "9988                                               .Net       \n",
       "9989                                                C++       \n",
       "9990                                               .Net       \n",
       "9991                                         JavaScript       \n",
       "9992                                                 C#       \n",
       "9993                                                 C#       \n",
       "9994                                           HTML/CSS       \n",
       "9995                                         JavaScript       \n",
       "9996                                                PHP       \n",
       "9997                                                C++       \n",
       "9998                                         JavaScript       \n",
       "9999                                                  C       \n",
       "\n",
       "      Rate your written communication skills [1-10]  \\\n",
       "0                                                 6   \n",
       "1                                                10   \n",
       "2                                                 8   \n",
       "3                                                 9   \n",
       "4                                                 8   \n",
       "5                                                 6   \n",
       "6                                                10   \n",
       "7                                                 9   \n",
       "8                                                 9   \n",
       "9                                                10   \n",
       "10                                                8   \n",
       "11                                               10   \n",
       "12                                                8   \n",
       "13                                               10   \n",
       "14                                                8   \n",
       "15                                               10   \n",
       "16                                                9   \n",
       "17                                                9   \n",
       "18                                                6   \n",
       "19                                                6   \n",
       "20                                                7   \n",
       "21                                               10   \n",
       "22                                                6   \n",
       "23                                                8   \n",
       "24                                               10   \n",
       "25                                                9   \n",
       "26                                                7   \n",
       "27                                                6   \n",
       "28                                                9   \n",
       "29                                                8   \n",
       "...                                             ...   \n",
       "9970                                              6   \n",
       "9971                                              7   \n",
       "9972                                              9   \n",
       "9973                                              8   \n",
       "9974                                              6   \n",
       "9975                                              6   \n",
       "9976                                              7   \n",
       "9977                                              8   \n",
       "9978                                              9   \n",
       "9979                                             10   \n",
       "9980                                              7   \n",
       "9981                                              6   \n",
       "9982                                             10   \n",
       "9983                                              6   \n",
       "9984                                              7   \n",
       "9985                                              7   \n",
       "9986                                              6   \n",
       "9987                                              6   \n",
       "9988                                              6   \n",
       "9989                                             10   \n",
       "9990                                              9   \n",
       "9991                                              8   \n",
       "9992                                              6   \n",
       "9993                                              8   \n",
       "9994                                              8   \n",
       "9995                                              9   \n",
       "9996                                              7   \n",
       "9997                                              7   \n",
       "9998                                              7   \n",
       "9999                                              6   \n",
       "\n",
       "      Rate your verbal communication skills [1-10]  \n",
       "0                                               10  \n",
       "1                                                7  \n",
       "2                                                6  \n",
       "3                                                6  \n",
       "4                                                6  \n",
       "5                                                7  \n",
       "6                                                7  \n",
       "7                                                9  \n",
       "8                                               10  \n",
       "9                                               10  \n",
       "10                                              10  \n",
       "11                                               7  \n",
       "12                                               6  \n",
       "13                                               7  \n",
       "14                                               8  \n",
       "15                                               7  \n",
       "16                                               6  \n",
       "17                                               7  \n",
       "18                                              10  \n",
       "19                                               8  \n",
       "20                                               8  \n",
       "21                                               6  \n",
       "22                                               6  \n",
       "23                                               8  \n",
       "24                                               8  \n",
       "25                                               9  \n",
       "26                                              10  \n",
       "27                                              10  \n",
       "28                                               9  \n",
       "29                                               9  \n",
       "...                                            ...  \n",
       "9970                                             7  \n",
       "9971                                             8  \n",
       "9972                                             7  \n",
       "9973                                             8  \n",
       "9974                                            10  \n",
       "9975                                             7  \n",
       "9976                                             7  \n",
       "9977                                            10  \n",
       "9978                                             7  \n",
       "9979                                            10  \n",
       "9980                                             8  \n",
       "9981                                             6  \n",
       "9982                                             8  \n",
       "9983                                             9  \n",
       "9984                                             9  \n",
       "9985                                            10  \n",
       "9986                                            10  \n",
       "9987                                             8  \n",
       "9988                                             8  \n",
       "9989                                             9  \n",
       "9990                                             6  \n",
       "9991                                             8  \n",
       "9992                                             7  \n",
       "9993                                             6  \n",
       "9994                                             6  \n",
       "9995                                             9  \n",
       "9996                                             7  \n",
       "9997                                             7  \n",
       "9998                                             6  \n",
       "9999                                            10  \n",
       "\n",
       "[10000 rows x 7 columns]"
      ]
     },
     "execution_count": 6,
     "metadata": {},
     "output_type": "execute_result"
    }
   ],
   "source": [
    "y=df['Label']\n",
    "X=df[['Major/Area of Study','Which-year are you studying in?','CGPA/ percentage','Areas of interest',\n",
    "      'Programming Language Known other than Java (one major)',\n",
    "     'Rate your written communication skills [1-10]','Rate your verbal communication skills [1-10]']]\n",
    "X"
   ]
  },
  {
   "cell_type": "code",
   "execution_count": null,
   "metadata": {},
   "outputs": [],
   "source": []
  },
  {
   "cell_type": "code",
   "execution_count": 9,
   "metadata": {},
   "outputs": [],
   "source": [
    "def categorical_encoding(X,y):\n",
    "    le = LabelEncoder()\n",
    "    #le.fit(y.astype(str))\n",
    "    y = le.fit_transform(y.astype(str))\n",
    "    x_list=['Major/Area of Study','Which-year are you studying in?','CGPA/ percentage','Areas of interest',\n",
    "            'Programming Language Known other than Java (one major)',\n",
    "            'Rate your written communication skills [1-10]','Rate your verbal communication skills [1-10]']\n",
    "    for i in x_list:\n",
    "        #le.fit(X[i].astype(str))\n",
    "        X[i] = le.fit_transform(X[i].astype(str))"
   ]
  },
  {
   "cell_type": "code",
   "execution_count": 10,
   "metadata": {},
   "outputs": [
    {
     "name": "stderr",
     "output_type": "stream",
     "text": [
      "/home/swati/anaconda3/lib/python3.7/site-packages/ipykernel_launcher.py:10: SettingWithCopyWarning: \n",
      "A value is trying to be set on a copy of a slice from a DataFrame.\n",
      "Try using .loc[row_indexer,col_indexer] = value instead\n",
      "\n",
      "See the caveats in the documentation: http://pandas.pydata.org/pandas-docs/stable/indexing.html#indexing-view-versus-copy\n",
      "  # Remove the CWD from sys.path while we load stuff.\n"
     ]
    }
   ],
   "source": [
    "categorical_encoding(X,y)"
   ]
  },
  {
   "cell_type": "code",
   "execution_count": 9,
   "metadata": {},
   "outputs": [],
   "source": [
    "X_train, X_test, y_train, y_test = train_test_split(X,y,test_size=0.25,random_state=50)"
   ]
  },
  {
   "cell_type": "code",
   "execution_count": 10,
   "metadata": {},
   "outputs": [
    {
     "name": "stderr",
     "output_type": "stream",
     "text": [
      "/home/swati/anaconda3/lib/python3.7/site-packages/sklearn/linear_model/logistic.py:433: FutureWarning: Default solver will be changed to 'lbfgs' in 0.22. Specify a solver to silence this warning.\n",
      "  FutureWarning)\n"
     ]
    }
   ],
   "source": [
    "#logreg = LogisticRegression()\n",
    "\n",
    "# fit the model with data\n",
    "#logreg.fit(X_train,y_train)\n",
    "clf=LogisticRegression()\n",
    "clf.fit(X_train,y_train)\n",
    "\n",
    "y_pred=clf.predict(X_test)"
   ]
  },
  {
   "cell_type": "code",
   "execution_count": 11,
   "metadata": {},
   "outputs": [
    {
     "data": {
      "text/plain": [
       "array([[ 586,  388],\n",
       "       [ 284, 1242]])"
      ]
     },
     "execution_count": 11,
     "metadata": {},
     "output_type": "execute_result"
    }
   ],
   "source": [
    "cnf_matrix = metrics.confusion_matrix(y_test, y_pred)\n",
    "cnf_matrix"
   ]
  },
  {
   "cell_type": "code",
   "execution_count": 12,
   "metadata": {},
   "outputs": [
    {
     "name": "stdout",
     "output_type": "stream",
     "text": [
      "<class 'pandas.core.series.Series'>\n",
      "<class 'numpy.ndarray'>\n"
     ]
    }
   ],
   "source": [
    "print(type(y_test))\n",
    "print(type(y_pred))"
   ]
  },
  {
   "cell_type": "code",
   "execution_count": 13,
   "metadata": {},
   "outputs": [
    {
     "name": "stdout",
     "output_type": "stream",
     "text": [
      "Accuracy: 0.7312\n"
     ]
    }
   ],
   "source": [
    "print(\"Accuracy:\",metrics.accuracy_score(y_test, y_pred))"
   ]
  },
  {
   "cell_type": "code",
   "execution_count": 16,
   "metadata": {},
   "outputs": [
    {
     "data": {
      "text/plain": [
       "0.7280488539544551"
      ]
     },
     "execution_count": 16,
     "metadata": {},
     "output_type": "execute_result"
    }
   ],
   "source": [
    "f1_score(y_test, y_pred, average='weighted')"
   ]
  },
  {
   "cell_type": "code",
   "execution_count": null,
   "metadata": {},
   "outputs": [],
   "source": []
  },
  {
   "cell_type": "markdown",
   "metadata": {},
   "source": [
    "# KNN MODEL"
   ]
  },
  {
   "cell_type": "code",
   "execution_count": 17,
   "metadata": {},
   "outputs": [],
   "source": [
    "from sklearn.neighbors import KNeighborsClassifier"
   ]
  },
  {
   "cell_type": "code",
   "execution_count": 18,
   "metadata": {},
   "outputs": [],
   "source": [
    "X_train, X_test, y_train, y_test = train_test_split(X,y,test_size=0.25,random_state=50)"
   ]
  },
  {
   "cell_type": "code",
   "execution_count": 19,
   "metadata": {},
   "outputs": [],
   "source": [
    "knn=KNeighborsClassifier(n_neighbors=5)\n",
    "knn.fit(X_train, y_train)\n",
    "y_pred=knn.predict(X_test)"
   ]
  },
  {
   "cell_type": "code",
   "execution_count": 20,
   "metadata": {},
   "outputs": [
    {
     "name": "stdout",
     "output_type": "stream",
     "text": [
      "Accuracy: 0.7272\n"
     ]
    }
   ],
   "source": [
    "print(\"Accuracy:\",metrics.accuracy_score(y_test, y_pred))"
   ]
  },
  {
   "cell_type": "code",
   "execution_count": 21,
   "metadata": {},
   "outputs": [
    {
     "data": {
      "text/plain": [
       "0.725866105263158"
      ]
     },
     "execution_count": 21,
     "metadata": {},
     "output_type": "execute_result"
    }
   ],
   "source": [
    "f1_score(y_test, y_pred, average='weighted')"
   ]
  },
  {
   "cell_type": "markdown",
   "metadata": {},
   "source": [
    "# SVM MODEL"
   ]
  },
  {
   "cell_type": "code",
   "execution_count": 22,
   "metadata": {},
   "outputs": [],
   "source": [
    "from sklearn import svm"
   ]
  },
  {
   "cell_type": "code",
   "execution_count": 23,
   "metadata": {},
   "outputs": [],
   "source": [
    "X_train, X_test, y_train, y_test = train_test_split(X,y,test_size=0.25,random_state=50)"
   ]
  },
  {
   "cell_type": "code",
   "execution_count": 24,
   "metadata": {},
   "outputs": [],
   "source": [
    "cla=svm.SVC(kernel='linear')\n",
    "cla.fit(X_train,y_train)\n",
    "y_pred=cla.predict(X_test)"
   ]
  },
  {
   "cell_type": "code",
   "execution_count": 25,
   "metadata": {},
   "outputs": [
    {
     "name": "stdout",
     "output_type": "stream",
     "text": [
      "Accuracy: 0.7324\n"
     ]
    }
   ],
   "source": [
    "print(\"Accuracy:\",metrics.accuracy_score(y_test, y_pred))"
   ]
  },
  {
   "cell_type": "code",
   "execution_count": 26,
   "metadata": {},
   "outputs": [
    {
     "data": {
      "text/plain": [
       "0.7299877542747925"
      ]
     },
     "execution_count": 26,
     "metadata": {},
     "output_type": "execute_result"
    }
   ],
   "source": [
    "f1_score(y_test, y_pred, average='weighted')"
   ]
  },
  {
   "cell_type": "code",
   "execution_count": null,
   "metadata": {},
   "outputs": [],
   "source": []
  },
  {
   "cell_type": "code",
   "execution_count": 29,
   "metadata": {},
   "outputs": [
    {
     "name": "stderr",
     "output_type": "stream",
     "text": [
      "/home/swati/anaconda3/lib/python3.7/site-packages/sklearn/svm/base.py:196: FutureWarning: The default value of gamma will change from 'auto' to 'scale' in version 0.22 to account better for unscaled features. Set gamma explicitly to 'auto' or 'scale' to avoid this warning.\n",
      "  \"avoid this warning.\", FutureWarning)\n"
     ]
    }
   ],
   "source": [
    "cla=svm.SVC(kernel='rbf')\n",
    "cla.fit(X_train,y_train)\n",
    "y_pred=cla.predict(X_test)"
   ]
  },
  {
   "cell_type": "code",
   "execution_count": 30,
   "metadata": {},
   "outputs": [
    {
     "name": "stdout",
     "output_type": "stream",
     "text": [
      "Accuracy: 0.6668\n"
     ]
    }
   ],
   "source": [
    "print(\"Accuracy:\",metrics.accuracy_score(y_test, y_pred))"
   ]
  },
  {
   "cell_type": "code",
   "execution_count": null,
   "metadata": {},
   "outputs": [],
   "source": []
  },
  {
   "cell_type": "code",
   "execution_count": null,
   "metadata": {},
   "outputs": [
    {
     "name": "stderr",
     "output_type": "stream",
     "text": [
      "/home/swati/anaconda3/lib/python3.7/site-packages/sklearn/svm/base.py:196: FutureWarning: The default value of gamma will change from 'auto' to 'scale' in version 0.22 to account better for unscaled features. Set gamma explicitly to 'auto' or 'scale' to avoid this warning.\n",
      "  \"avoid this warning.\", FutureWarning)\n"
     ]
    }
   ],
   "source": [
    "classifier = svm.SVC(kernel = 'poly', degree = 2)\n",
    "classifier.fit(X_train,y_train)\n",
    "y_pred=classifier.predict(X_test)"
   ]
  },
  {
   "cell_type": "code",
   "execution_count": null,
   "metadata": {},
   "outputs": [],
   "source": [
    "print(\"Accuracy:\",metrics.accuracy_score(y_test, y_pred))"
   ]
  },
  {
   "cell_type": "markdown",
   "metadata": {},
   "source": [
    "# NAIVE BAYES"
   ]
  },
  {
   "cell_type": "code",
   "execution_count": 27,
   "metadata": {},
   "outputs": [],
   "source": [
    "from sklearn.naive_bayes import GaussianNB"
   ]
  },
  {
   "cell_type": "code",
   "execution_count": 28,
   "metadata": {},
   "outputs": [],
   "source": [
    "X_train, X_test, y_train, y_test = train_test_split(X,y,test_size=0.25,random_state=50)"
   ]
  },
  {
   "cell_type": "code",
   "execution_count": 29,
   "metadata": {},
   "outputs": [],
   "source": [
    "gnb = GaussianNB()\n",
    "gnb.fit(X_train, y_train)\n",
    "y_pred=gnb.predict(X_test)"
   ]
  },
  {
   "cell_type": "code",
   "execution_count": 30,
   "metadata": {},
   "outputs": [
    {
     "name": "stdout",
     "output_type": "stream",
     "text": [
      "Accuracy: 0.756\n"
     ]
    }
   ],
   "source": [
    "print(\"Accuracy:\",metrics.accuracy_score(y_test, y_pred))"
   ]
  },
  {
   "cell_type": "code",
   "execution_count": 31,
   "metadata": {},
   "outputs": [
    {
     "data": {
      "text/plain": [
       "0.7544750664459065"
      ]
     },
     "execution_count": 31,
     "metadata": {},
     "output_type": "execute_result"
    }
   ],
   "source": [
    "f1_score(y_test, y_pred, average='weighted')"
   ]
  },
  {
   "cell_type": "code",
   "execution_count": null,
   "metadata": {},
   "outputs": [],
   "source": []
  },
  {
   "cell_type": "code",
   "execution_count": 9,
   "metadata": {},
   "outputs": [],
   "source": [
    "from sklearn.naive_bayes import MultinomialNB"
   ]
  },
  {
   "cell_type": "code",
   "execution_count": 10,
   "metadata": {},
   "outputs": [],
   "source": [
    "X_train, X_test, y_train, y_test = train_test_split(X,y,test_size=0.3,random_state=50)"
   ]
  },
  {
   "cell_type": "code",
   "execution_count": 11,
   "metadata": {},
   "outputs": [],
   "source": [
    "mnb = MultinomialNB()\n",
    "mnb.fit(X_train, y_train)\n",
    "y_pred=mnb.predict(X_test)"
   ]
  },
  {
   "cell_type": "code",
   "execution_count": 12,
   "metadata": {},
   "outputs": [
    {
     "name": "stdout",
     "output_type": "stream",
     "text": [
      "Accuracy: 0.6086666666666667\n"
     ]
    }
   ],
   "source": [
    "print(\"Accuracy:\",metrics.accuracy_score(y_test, y_pred))"
   ]
  },
  {
   "cell_type": "code",
   "execution_count": null,
   "metadata": {},
   "outputs": [],
   "source": []
  },
  {
   "cell_type": "code",
   "execution_count": 13,
   "metadata": {},
   "outputs": [],
   "source": [
    "from sklearn.naive_bayes import BernoulliNB"
   ]
  },
  {
   "cell_type": "code",
   "execution_count": 14,
   "metadata": {},
   "outputs": [],
   "source": [
    "X_train, X_test, y_train, y_test = train_test_split(X,y,test_size=0.3,random_state=50)"
   ]
  },
  {
   "cell_type": "code",
   "execution_count": 15,
   "metadata": {},
   "outputs": [],
   "source": [
    "bnb = BernoulliNB()\n",
    "bnb.fit(X_train, y_train)\n",
    "y_pred=bnb.predict(X_test)"
   ]
  },
  {
   "cell_type": "code",
   "execution_count": 16,
   "metadata": {},
   "outputs": [
    {
     "name": "stdout",
     "output_type": "stream",
     "text": [
      "Accuracy: 0.6913333333333334\n"
     ]
    }
   ],
   "source": [
    "print(\"Accuracy:\",metrics.accuracy_score(y_test, y_pred))"
   ]
  },
  {
   "cell_type": "code",
   "execution_count": null,
   "metadata": {},
   "outputs": [],
   "source": []
  },
  {
   "cell_type": "code",
   "execution_count": 21,
   "metadata": {},
   "outputs": [],
   "source": [
    "from sklearn.naive_bayes import ComplementNB"
   ]
  },
  {
   "cell_type": "code",
   "execution_count": 22,
   "metadata": {},
   "outputs": [],
   "source": [
    "X_train, X_test, y_train, y_test = train_test_split(X,y,test_size=0.3,random_state=50)"
   ]
  },
  {
   "cell_type": "code",
   "execution_count": 23,
   "metadata": {},
   "outputs": [],
   "source": [
    "cnb = ComplementNB()\n",
    "cnb.fit(X_train, y_train)\n",
    "y_pred=cnb.predict(X_test)"
   ]
  },
  {
   "cell_type": "code",
   "execution_count": 24,
   "metadata": {},
   "outputs": [
    {
     "name": "stdout",
     "output_type": "stream",
     "text": [
      "Accuracy: 0.603\n"
     ]
    }
   ],
   "source": [
    "print(\"Accuracy:\",metrics.accuracy_score(y_test, y_pred))"
   ]
  },
  {
   "cell_type": "markdown",
   "metadata": {},
   "source": [
    "# DECISION TREE"
   ]
  },
  {
   "cell_type": "code",
   "execution_count": 32,
   "metadata": {},
   "outputs": [],
   "source": [
    "from sklearn import tree"
   ]
  },
  {
   "cell_type": "code",
   "execution_count": 33,
   "metadata": {},
   "outputs": [],
   "source": [
    "X_train, X_test, y_train, y_test = train_test_split(X,y,test_size=0.25,random_state=50)"
   ]
  },
  {
   "cell_type": "code",
   "execution_count": 34,
   "metadata": {},
   "outputs": [],
   "source": [
    "dct=tree.DecisionTreeClassifier()\n",
    "dct.fit(X_train,y_train)\n",
    "y_pred=dct.predict(X_test)"
   ]
  },
  {
   "cell_type": "code",
   "execution_count": 35,
   "metadata": {},
   "outputs": [
    {
     "name": "stdout",
     "output_type": "stream",
     "text": [
      "Accuracy: 1.0\n"
     ]
    }
   ],
   "source": [
    "print(\"Accuracy:\",metrics.accuracy_score(y_test, y_pred))"
   ]
  },
  {
   "cell_type": "code",
   "execution_count": 36,
   "metadata": {},
   "outputs": [
    {
     "data": {
      "text/plain": [
       "array([[ 974,    0],\n",
       "       [   0, 1526]])"
      ]
     },
     "execution_count": 36,
     "metadata": {},
     "output_type": "execute_result"
    }
   ],
   "source": [
    "cnf_matrix = metrics.confusion_matrix(y_test, y_pred)\n",
    "cnf_matrix"
   ]
  },
  {
   "cell_type": "markdown",
   "metadata": {},
   "source": [
    "# PASSIVE AGGRESSIVE"
   ]
  },
  {
   "cell_type": "code",
   "execution_count": 37,
   "metadata": {},
   "outputs": [],
   "source": [
    "from sklearn.linear_model import PassiveAggressiveClassifier"
   ]
  },
  {
   "cell_type": "code",
   "execution_count": 38,
   "metadata": {},
   "outputs": [],
   "source": [
    "X_train, X_test, y_train, y_test = train_test_split(X,y,test_size=0.25,random_state=50)"
   ]
  },
  {
   "cell_type": "code",
   "execution_count": 51,
   "metadata": {},
   "outputs": [
    {
     "name": "stderr",
     "output_type": "stream",
     "text": [
      "/home/swati/anaconda3/lib/python3.7/site-packages/sklearn/linear_model/stochastic_gradient.py:152: DeprecationWarning: n_iter parameter is deprecated in 0.19 and will be removed in 0.21. Use max_iter and tol instead.\n",
      "  DeprecationWarning)\n",
      "/home/swati/anaconda3/lib/python3.7/site-packages/sklearn/linear_model/stochastic_gradient.py:152: DeprecationWarning: n_iter parameter is deprecated in 0.19 and will be removed in 0.21. Use max_iter and tol instead.\n",
      "  DeprecationWarning)\n"
     ]
    }
   ],
   "source": [
    "pac=PassiveAggressiveClassifier(n_iter=55)\n",
    "pac.fit(X_train,y_train)\n",
    "y_pred=pac.predict(X_test)"
   ]
  },
  {
   "cell_type": "code",
   "execution_count": 52,
   "metadata": {},
   "outputs": [
    {
     "name": "stdout",
     "output_type": "stream",
     "text": [
      "Accuracy: 0.6432\n"
     ]
    }
   ],
   "source": [
    "print(\"Accuracy:\",metrics.accuracy_score(y_test, y_pred))"
   ]
  },
  {
   "cell_type": "markdown",
   "metadata": {},
   "source": [
    "# RANDOM FOREST "
   ]
  },
  {
   "cell_type": "code",
   "execution_count": 90,
   "metadata": {},
   "outputs": [],
   "source": [
    "from sklearn.ensemble import RandomForestClassifier"
   ]
  },
  {
   "cell_type": "code",
   "execution_count": 91,
   "metadata": {},
   "outputs": [],
   "source": [
    "X_train, X_test, y_train, y_test = train_test_split(X,y,test_size=0.25,random_state=50)"
   ]
  },
  {
   "cell_type": "code",
   "execution_count": 98,
   "metadata": {},
   "outputs": [],
   "source": [
    "rf = RandomForestClassifier(n_estimators = 1000, random_state = 50)\n",
    "rf.fit(X_train, y_train)\n",
    "y_pred = rf.predict(X_test)"
   ]
  },
  {
   "cell_type": "code",
   "execution_count": 99,
   "metadata": {},
   "outputs": [
    {
     "name": "stdout",
     "output_type": "stream",
     "text": [
      "Accuracy: 0.9984\n"
     ]
    }
   ],
   "source": [
    "print(\"Accuracy:\",metrics.accuracy_score(y_test, y_pred))"
   ]
  },
  {
   "cell_type": "code",
   "execution_count": 100,
   "metadata": {},
   "outputs": [
    {
     "data": {
      "text/plain": [
       "0.9983994010298839"
      ]
     },
     "execution_count": 100,
     "metadata": {},
     "output_type": "execute_result"
    }
   ],
   "source": [
    "f1_score(y_test, y_pred, average='weighted')"
   ]
  },
  {
   "cell_type": "markdown",
   "metadata": {},
   "source": [
    "# NEURAL NETWORK"
   ]
  },
  {
   "cell_type": "code",
   "execution_count": 11,
   "metadata": {},
   "outputs": [],
   "source": [
    "X_train, X_test, y_train, y_test = train_test_split(X,y,test_size=0.25,random_state=50)"
   ]
  },
  {
   "cell_type": "code",
   "execution_count": 12,
   "metadata": {},
   "outputs": [
    {
     "name": "stderr",
     "output_type": "stream",
     "text": [
      "/home/swati/anaconda3/lib/python3.7/site-packages/sklearn/neural_network/multilayer_perceptron.py:562: ConvergenceWarning: Stochastic Optimizer: Maximum iterations (200) reached and the optimization hasn't converged yet.\n",
      "  % self.max_iter, ConvergenceWarning)\n"
     ]
    }
   ],
   "source": [
    "from sklearn.neural_network import MLPClassifier\n",
    "classi = MLPClassifier(random_state=1, max_iter=200)\n",
    "classi.fit(X_train, y_train)\n",
    "y_pred = classi.predict(X_test)"
   ]
  },
  {
   "cell_type": "code",
   "execution_count": 13,
   "metadata": {},
   "outputs": [
    {
     "name": "stdout",
     "output_type": "stream",
     "text": [
      "Accuracy: 0.9016\n"
     ]
    }
   ],
   "source": [
    "print(\"Accuracy:\",metrics.accuracy_score(y_test, y_pred))"
   ]
  },
  {
   "cell_type": "code",
   "execution_count": 14,
   "metadata": {},
   "outputs": [
    {
     "data": {
      "text/plain": [
       "array([[ 883,   91],\n",
       "       [ 155, 1371]])"
      ]
     },
     "execution_count": 14,
     "metadata": {},
     "output_type": "execute_result"
    }
   ],
   "source": [
    "cnf_matrix = metrics.confusion_matrix(y_test, y_pred)\n",
    "cnf_matrix"
   ]
  },
  {
   "cell_type": "code",
   "execution_count": 15,
   "metadata": {},
   "outputs": [
    {
     "data": {
      "text/plain": [
       "0.9021111946793137"
      ]
     },
     "execution_count": 15,
     "metadata": {},
     "output_type": "execute_result"
    }
   ],
   "source": [
    "f1_score(y_test, y_pred, average='weighted')"
   ]
  },
  {
   "cell_type": "code",
   "execution_count": null,
   "metadata": {},
   "outputs": [],
   "source": []
  }
 ],
 "metadata": {
  "kernelspec": {
   "display_name": "Python 3",
   "language": "python",
   "name": "python3"
  },
  "language_info": {
   "codemirror_mode": {
    "name": "ipython",
    "version": 3
   },
   "file_extension": ".py",
   "mimetype": "text/x-python",
   "name": "python",
   "nbconvert_exporter": "python",
   "pygments_lexer": "ipython3",
   "version": "3.7.3"
  }
 },
 "nbformat": 4,
 "nbformat_minor": 2
}
